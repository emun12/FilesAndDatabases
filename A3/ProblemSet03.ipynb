{
 "cells": [
  {
   "cell_type": "markdown",
   "metadata": {
    "course": "Comp521F19",
    "problemset": 3,
    "section": "header"
   },
   "source": [
    "<div style=\"text-align: center;\">\n",
    "<h1>The University of North Carolina at Chapel Hill</h1>\n",
    "<h1>Comp 521 Files and Databases - Fall 2019</h1>\n",
    "<h1 style=\"font-size: 250%;\">Problem Set #3</h1>\n",
    "<h1 style=\"font-size: 200%;\">Version 1.1</h1>\n",
    "<h1>Issued Tuesday 9/22/2020; Due Thursday 10/08/2020</h1>\n",
    "</div>\n",
    "\n",
    "**Homework Information:** The answer cells in this notebook contain metadata that enable it to be automatically parsed. Thus, you must enter your answers *only* into the cells provided. Do not delete any answer cell and/or add a new one to replace it. If you do so by accident, download a new copy of the problem set's notebook and transfer your answers into it. You can introduce new 'coding' cells in an effort to test approaches to problems, however, these introduced cells will not be considered when grading.\n",
    "\n",
    "Finally, some of the problems are probably too long to be done the night before the due date, so plan accordingly. Late problem sets will be accepted, but your lowest problem-set grade will be dropped. Feel free to get help from others, but the work you submit in should be your own."
   ]
  },
  {
   "cell_type": "code",
   "execution_count": 1,
   "metadata": {
    "section": "signature"
   },
   "outputs": [],
   "source": [
    "# Please fill out the entries in this Cell.\n",
    "# By sigining it you are agreeing to the UNC honor code\n",
    "class Student:\n",
    "    first = \"Esther\"\n",
    "    last = \"Mun\"\n",
    "    onyen = \"emun99\"\n",
    "    pid = \"730239798\""
   ]
  },
  {
   "cell_type": "markdown",
   "metadata": {
    "section": "setup"
   },
   "source": [
    "In the following questions you will need to write Python3 programs to perform queries\n",
    "    on and modify the <a href=\"http://csbio.unc.edu/mcmillan/Media/NCCOVID19.db\" download>NCCOVID19.db</a>\n",
    "    database used in Problem Set #2. **You are only allowed to import the standard \"sqlite3\"\n",
    "    and the \"time\" Python packages.**"
   ]
  },
  {
   "cell_type": "markdown",
   "metadata": {
    "case": 0,
    "key": "coaches",
    "number": 1,
    "section": "problem"
   },
   "source": [
    "---\n",
    "**Problem 1:** The file <a href=\"http://csbio.unc.edu/mcmillan/Media/NC2018Mortality.csv\" download=\"NC2018Mortality.csv\">NC2018Mortality.csv</a> contains a list of deaths by race and sex in each of North Carolina's counties. Write a Python3 program that creates a new table in the NCCOVID19.db database and then loads that table into the database using values from this file. The table should have the following schema:\n",
    "\n",
    "<table style=\"border-collapse: collapse; border: 1px solid black;\"><tbody>\n",
    "<tr style=\"border-collapse: collapse; border: 1px solid black;\">\n",
    "    <th colspan=\"7\" style=\"text-align:center; background-color: skyblue;\">Mortality</th></tr>\n",
    "<tr style=\"border-collapse: collapse; border: 1px solid black;\">\n",
    "    <td style=\"border-collapse: collapse; border: 1px solid black;\"><u>fips</u></td>\n",
    "    <td style=\"border-collapse: collapse; border: 1px solid black;\"><u>year</u></td>\n",
    "    <td style=\"border-collapse: collapse; border: 1px solid black;\"><u>race</u></td>\n",
    "    <td style=\"border-collapse: collapse; border: 1px solid black;\"><u>sex</u></td>\n",
    "    <td style=\"border-collapse: collapse; border: 1px solid black;\">count</td>\n",
    "</tr>\n",
    "</tbody></table>\n",
    "\n",
    "Do not parse the file using pandas or Python's built-in \"csv\" modules \"reader\" method. This will require that you open the file, read its contents, split them into lines, extract the header line,  "
   ]
  },
  {
   "cell_type": "code",
   "execution_count": 59,
   "metadata": {
    "number": 1,
    "section": "answer"
   },
   "outputs": [],
   "source": [
    "# Enter your Python3 code here\n",
    "# Import sql libraries\n",
    "import sqlite3\n",
    "import time\n",
    "\n",
    "\n",
    "# open a database and make a cursor\n",
    "db = sqlite3.connect(\"NCCOVID19 (3).db\") \n",
    "\n",
    "# get a cursor\n",
    "cur = db.cursor()\n",
    "\n",
    "\n",
    "# Create a table\n",
    "cur.execute(\"Drop table if exists Mortality\")\n",
    "db.commit()\n",
    "cur.execute(\"\"\"Create table Mortality(fips integer, year integer, race text, sex text, count integer, \n",
    "            primary key (fips, year, race, sex), foreign key (fips) references county(fips))\"\"\")\n",
    "db.commit()\n",
    "\n",
    "\n",
    "# Save file contents to a variable\n",
    "with open(\"NC2018Mortality.csv\") as f:\n",
    "    content = f.readlines()\n",
    "    \n",
    "    \n",
    "# add values from csv file into Mortality table        \n",
    "for l in content[1:]:\n",
    "    l = l.strip()\n",
    "    l = l.split(',')     \n",
    "    cur.execute(\"Select County.fips From County where County.name LIKE ?\", (l[0],))    \n",
    "    \n",
    "    fips = cur.fetchone() [0]\n",
    "    year = 2018\n",
    "    race = \"white\"\n",
    "    sex = \"male\"\n",
    "    count = l[1] \n",
    "    sql = \"insert into Mortality (fips, year, race, sex, count) values (?, ?, ?, ?, ?)\"\n",
    "    cur.execute(sql, (fips, year, race, sex, count))\n",
    "    \n",
    "    year = 2018\n",
    "    race = \"white\"\n",
    "    sex = \"female\"\n",
    "    count = l[2]\n",
    "    sql = \"insert into Mortality (fips, year, race, sex, count) values (?, ?, ?, ?, ?)\"\n",
    "    cur.execute(sql, (fips, year, race, sex, count))\n",
    "    \n",
    "    year = 2018\n",
    "    race = \"black\"\n",
    "    sex = \"male\"\n",
    "    count = l[3]\n",
    "    sql = \"insert into Mortality (fips, year, race, sex, count) values (?, ?, ?, ?, ?)\"\n",
    "    cur.execute(sql, (fips, year, race, sex, count))\n",
    "    \n",
    "    year = 2018\n",
    "    race = \"black\"\n",
    "    sex = \"female\"\n",
    "    count = l[4]\n",
    "    sql = \"insert into Mortality (fips, year, race, sex, count) values (?, ?, ?, ?, ?)\"\n",
    "    cur.execute(sql, (fips, year, race, sex, count))\n",
    "    \n",
    "    year = 2018\n",
    "    race = \"asian\"\n",
    "    sex = \"male\"\n",
    "    count = l[5]\n",
    "    sql = \"insert into Mortality (fips, year, race, sex, count) values (?, ?, ?, ?, ?)\"\n",
    "    cur.execute(sql, (fips, year, race, sex, count))\n",
    "    \n",
    "    year = 2018\n",
    "    race = \"asian\"\n",
    "    sex = \"female\"\n",
    "    count = l[6]\n",
    "    sql = \"insert into Mortality (fips, year, race, sex, count) values (?, ?, ?, ?, ?)\"\n",
    "    cur.execute(sql, (fips, year, race, sex, count))\n",
    "    \n",
    "    year = 2018\n",
    "    race = \"aian\"\n",
    "    sex = \"male\"\n",
    "    count = l[7]\n",
    "    sql = \"insert into Mortality (fips, year, race, sex, count) values (?, ?, ?, ?, ?)\"\n",
    "    cur.execute(sql, (fips, year, race, sex, count))\n",
    "    \n",
    "    year = 2018\n",
    "    race = \"aian\"\n",
    "    sex = \"female\"\n",
    "    count = l[8]\n",
    "    sql = \"insert into Mortality (fips, year, race, sex, count) values (?, ?, ?, ?, ?)\"\n",
    "    cur.execute(sql, (fips, year, race, sex, count))\n",
    "    \n",
    "    year = 2018\n",
    "    race = \"other\"\n",
    "    sex = \"male\"\n",
    "    count = l[9]\n",
    "    sql = \"insert into Mortality (fips, year, race, sex, count) values (?, ?, ?, ?, ?)\"\n",
    "    cur.execute(sql, (fips, year, race, sex, count))\n",
    "    \n",
    "    year = 2018\n",
    "    race = \"other\"\n",
    "    sex = \"female\"\n",
    "    count = l[10]\n",
    "    sql = \"insert into Mortality (fips, year, race, sex, count) values (?, ?, ?, ?, ?)\"\n",
    "    cur.execute(sql, (fips, year, race, sex, count))\n",
    "\n",
    "db.commit()    \n",
    "  \n",
    "\n",
    "db.close() \n"
   ]
  },
  {
   "cell_type": "markdown",
   "metadata": {
    "case": 1,
    "key": "coaches",
    "number": 2,
    "section": "problem"
   },
   "source": [
    "---\n",
    "**Problem 2:** Use the new table that you created in **Problem 1** to create the following Python3 function that estimates the number of 2018 deaths in each demographic category for a given county. These estimates are based on the assumption that *the number of mortality deaths in each demographic's age range is proportional to the 2018 population fraction in that same demogrphic's age range*. Your function should return a list of <code>(race,sex,agelo,agehi,count)</code> tuples, where the sum of all counts should match the total number of 2018 deaths in that county. All <code>counts</code> should be integers. All of your code must be within the body of the given function."
   ]
  },
  {
   "cell_type": "code",
   "execution_count": 58,
   "metadata": {
    "number": 2,
    "section": "answer"
   },
   "outputs": [],
   "source": [
    "import sqlite3\n",
    "\n",
    "def covidDemographicsEstimate(countyName):\n",
    "    demographicGroup = []\n",
    "    db = sqlite3.connect(\"NCCOVID19 (3).db\")\n",
    "    db.row_factory = sqlite3.Row\n",
    "    db.text_factory = str\n",
    "    cursor = db.cursor()\n",
    "    # Enter your Python3 code here\n",
    "         \n",
    "    \n",
    "    query1 = \"\"\"Select race, sex, count\n",
    "            From County, Mortality \n",
    "            Where County.fips = Mortality.fips and Mortality.year = ? and County.name = ? \"\"\"\n",
    "    query2 = \"\"\"Select agelo, agehi, count\n",
    "            From County, Demographics\n",
    "            Where County.fips = Demographics.fips and Demographics.race = ? and Demographics.sex = ?\n",
    "            and Demographics.year = ? and County.name = ?\"\"\"\n",
    "    \n",
    "    \n",
    "    demoGraph = []\n",
    "    for row in cursor.execute(query1, (2018, countyName)):\n",
    "            demoGraph.append(tuple([v for v in row]))\n",
    "              \n",
    "    \n",
    "    for race, sex, count in demoGraph:\n",
    "           \n",
    "        demoglist = []\n",
    "        demogtotal = 0\n",
    "        for row in cursor.execute(query2, (race, sex, 2018, countyName)):\n",
    "            demog = tuple([v for v in row])\n",
    "            demogtotal += row['count']\n",
    "            demoglist.append(demog)\n",
    "                    \n",
    "                     \n",
    "        tempList = []\n",
    "        residue = []\n",
    "        deathTotal = 0\n",
    "            \n",
    "        for agelo, agehi, pop in demoglist:\n",
    "            ratio = pop/demogtotal \n",
    "            fdeaths = count * ratio\n",
    "            ideaths = int(fdeaths)\n",
    "            tempList. append ([race, sex, agelo, agehi, ideaths])\n",
    "            residue.append([fdeaths - ideaths, len(tempList) - 1])\n",
    "            deathTotal += ideaths\n",
    "        \n",
    "            \n",
    "        if deathTotal < count:\n",
    "            for rowval in sorted(residue, reverse = True):\n",
    "                tempList[rowval[1]][4] += 1\n",
    "                deathTotal+= 1\n",
    "                if deathTotal == count:\n",
    "                    break      \n",
    "                    \n",
    "            \n",
    "        demographicGroup += tempList\n",
    "                        \n",
    "\n",
    "    db.commit()\n",
    "    \n",
    "    return demographicGroup\n",
    "# Tesing: covidDemographicsEstimate(\"Beaufort\")\n",
    "\n",
    "  \n",
    "\n"
   ]
  },
  {
   "cell_type": "markdown",
   "metadata": {
    "case": 0,
    "key": "repeats",
    "number": 3,
    "section": "problem"
   },
   "source": [
    "---\n",
    "**Problem 3:** In the space below write a SQL query that generates a list of (countyName, covidDeaths, totalDeaths2018, percentage) for all counties for which the 2020 Covid-19 deaths exceed 5% of the total deaths for that same county in 2018."
   ]
  },
  {
   "cell_type": "raw",
   "metadata": {
    "number": 3,
    "section": "answer"
   },
   "source": [
    "Select County.name as countyName,  death_by_covid.covid_d as covidDeaths, allDeaths.total_deaths as totalDeaths2018,\n",
    "(100.0 * death_by_covid.covid_d / allDeaths.total_deaths) as percentage\n",
    "\n",
    "From County,\n",
    "(Select fips, Sum(deaths) as covid_d\n",
    "From Covid19\n",
    "Group By fips) as death_by_covid,\n",
    "\n",
    "(Select fips, Sum(count) as total_deaths\n",
    "From Mortality\n",
    "Group By fips) as allDeaths\n",
    "\n",
    "Where county.fips = death_by_covid.fips and County.fips = allDeaths.fips and percentage > 5.0\n"
   ]
  },
  {
   "cell_type": "markdown",
   "metadata": {
    "case": 1,
    "key": "repeats",
    "number": 4,
    "section": "problem"
   },
   "source": [
    "---\n",
    "**Problem 4:** In the space below wirte a Python3 function that returns a list of all dates for which the given \"fips\" number accounts for at least the given \"percent\" of the total covid cases on that date. As an example, the NCCOVID19.db database includes Covid19 records that are not associated with any county. These records have a fips of 0. When your function is called with <code>AtLeastPercent(0, 10.0)</code> it should return the following list of dates:\n",
    "\n",
    "     ['2020-06-05', '2020-06-10', '2020-06-15', '2020-08-12']"
   ]
  },
  {
   "cell_type": "code",
   "execution_count": 76,
   "metadata": {
    "number": 4,
    "section": "answer"
   },
   "outputs": [
    {
     "name": "stdout",
     "output_type": "stream",
     "text": [
      "['2020-06-05', '2020-06-10', '2020-06-15', '2020-08-12']\n"
     ]
    }
   ],
   "source": [
    "import sqlite3\n",
    "\n",
    "def AtLeastPercent(fips, percent):\n",
    "    dateList = []\n",
    "    db = sqlite3.connect(\"NCCOVID19.db\")\n",
    "    db.row_factory = sqlite3.Row\n",
    "    db.text_factory = str\n",
    "    cursor = db.cursor()\n",
    "    # Enter your Python3 code here\n",
    "    \n",
    "    parameters = (fips, percent)\n",
    "    sql = \"\"\" Select total.total_date, countyCase.countyCases, total.totalCases, (1.0*countyCases)/(1.0*totalCases)*100.0 as percent\n",
    "              From (Select D.fips as Dfips, D.date as total_date, sum(cases) as totalCases\n",
    "                    From Covid19 D\n",
    "                    Group By D.date) total,\n",
    "                               \n",
    "                   (Select C.fips as Cfips, C.date as county_date, C.cases as countyCases\n",
    "                    From Covid19 C\n",
    "                    Where C.fips = ?\n",
    "                    Group By C.date) countyCase\n",
    "                                               \n",
    "              Where CountyCase.county_date = total.total_date and percent >= ? \"\"\"\n",
    "        \n",
    "    cursor.execute(sql, parameters)                           \n",
    "        \n",
    "    counties = cursor.fetchall()\n",
    "    \n",
    "    db.commit()\n",
    "        \n",
    "    index = 0\n",
    "    for temp in counties:\n",
    "        dateList.append(counties[index][0])\n",
    "        index += 1\n",
    "    \n",
    "   \n",
    "    \n",
    "    return dateList\n",
    "print(AtLeastPercent(0, 10.0))"
   ]
  },
  {
   "cell_type": "markdown",
   "metadata": {
    "case": 0,
    "key": "repeatPlayers",
    "number": 5,
    "section": "problem"
   },
   "source": [
    "---\n",
    "**Problem 5:** The following query was designed to identify dates where two Counties reported the same number of cases on the same date:<br>\n",
    "        <pre>\n",
    "        SELECT C1.name, C2.name, V1.date, V1.cases\n",
    "        FROM County C1, Covid19 V1, County C2, Covid19 V2\n",
    "        WHERE C1.fips=V1.fips AND C2.fips=V2.fips\n",
    "          AND V1.cases=V2.cases AND V1.date=V2.date AND V1.fips < V2.fips AND V1.cases >= 1\n",
    "        </pre>\n",
    "        \n",
    "This query is slow using the default NCCOVID19.db. Write a Python3 program to execute and time\n",
    "this query along with time to save all rows that it returns into a list for subsequent processing.\n",
    "You should verify that your list actually extracts data from the rows. In the cell provided\n",
    "below give the number of rows returned and the time required (no code please)."
   ]
  },
  {
   "cell_type": "code",
   "execution_count": 71,
   "metadata": {},
   "outputs": [
    {
     "name": "stdout",
     "output_type": "stream",
     "text": [
      "0.08144964218139648\n",
      "26826\n"
     ]
    }
   ],
   "source": [
    "import sqlite3\n",
    "import time\n",
    "\n",
    "db = sqlite3.connect(\"NCCOVID19.db\")\n",
    "cur = db.cursor() \n",
    "\n",
    "db.row_factory = str\n",
    "db.commit()\n",
    " \n",
    "for l in range(50):\n",
    "    start = time.time()\n",
    "    sql = cur.execute(\"\"\"SELECT C1.name, C2.name, V1.date, V1.cases\n",
    "                        FROM County C1, Covid19 V1, County C2, Covid19 V2\n",
    "                        WHERE C1.fips=V1.fips AND C2.fips=V2.fips\n",
    "                        AND V1.cases=V2.cases AND V1.date=V2.date AND V1.fips < V2.fips AND V1.cases >= 1\"\"\")\n",
    "    answers = cur.fetchall()\n",
    "    db.commit()\n",
    " \n",
    "    tim_elapsed = time.time() - start\n",
    "   \n",
    "    \n",
    "count = len(answers)\n",
    "\n",
    "db.commit()\n",
    "\n",
    "print(time_elapsed)  \n",
    "print(count)\n",
    "   \n",
    "\n"
   ]
  },
  {
   "cell_type": "raw",
   "metadata": {
    "number": 5,
    "section": "answer"
   },
   "source": [
    "Enter the time for the query: 0.08144964218139648 seconds\n",
    "\n",
    "Enter the number of rows reported: 26826 rows"
   ]
  },
  {
   "cell_type": "markdown",
   "metadata": {
    "case": 1,
    "key": "repeatPlayers",
    "number": 6,
    "section": "problem"
   },
   "source": [
    "---\n",
    "**Problem 6:** Next create an index to improve the performance of this query. In the cell provided below give\n",
    "the \"CREATE INDEX\" statement that you found provides the best performance improvement. Also include\n",
    "the time required for the query after creating the index you chose."
   ]
  },
  {
   "cell_type": "code",
   "execution_count": 75,
   "metadata": {},
   "outputs": [
    {
     "name": "stdout",
     "output_type": "stream",
     "text": [
      "0.07978630065917969\n",
      "26826\n"
     ]
    }
   ],
   "source": [
    "import sqlite3\n",
    "import time\n",
    "\n",
    "\n",
    "db = sqlite3.connect(\"NCCOVID19.db\")\n",
    "cur = db.cursor()\n",
    "\n",
    "db.row_factory = str\n",
    "\n",
    "cur.execute(\"\"\"DROP INDEX IF EXISTS case_date_idx\"\"\")\n",
    "cur.execute(\"\"\"Create index if not exists case_date_idx on Covid19(cases,date, fips) \"\"\")\n",
    "\n",
    "\n",
    "for l in range(50):\n",
    "    start = time.time()\n",
    "    sql = cur.execute(\"\"\"SELECT C1.name, C2.name, V1.date, V1.cases\n",
    "                        FROM County C1, Covid19 V1, County C2, Covid19 V2\n",
    "                        WHERE C1.fips=V1.fips AND C2.fips=V2.fips\n",
    "                        AND V1.cases=V2.cases AND V1.date=V2.date AND V1.fips < V2.fips AND V1.cases >= 1\"\"\")\n",
    "    answers = cur.fetchall()\n",
    "    \n",
    "    time_elapsed = time.time() - start \n",
    "\n",
    "    \n",
    "db.commit()\n",
    "\n",
    "count = len(answers)\n",
    "cur.execute(\"Drop index case_date_idx\")\n",
    "    \n",
    "print(time_elapsed)\n",
    "print(count)            \n",
    "\n"
   ]
  },
  {
   "cell_type": "raw",
   "metadata": {
    "number": 6,
    "section": "answer"
   },
   "source": [
    "Enter the SQL command for the index that you created: CREATE INDEX IF NOT EXISTS covid_indx ON Covid19(cases, date, fips) \n",
    "\n",
    "Enter the time for the query using your index: 0.071807861328125 seconds"
   ]
  },
  {
   "cell_type": "markdown",
   "metadata": {},
   "source": [
    "Click [here to submit](http://csbio.unc.edu/mcmillan/index.py?run=PS.upload) your completed problem set.\n",
    "\n",
    "You can submit it as many times as you would like, but only the last submitted version will be graded. If the last submission was after the due date the final score will be reduced accordingly. "
   ]
  }
 ],
 "metadata": {
  "kernelspec": {
   "display_name": "Python 3",
   "language": "python",
   "name": "python3"
  },
  "language_info": {
   "codemirror_mode": {
    "name": "ipython",
    "version": 3
   },
   "file_extension": ".py",
   "mimetype": "text/x-python",
   "name": "python",
   "nbconvert_exporter": "python",
   "pygments_lexer": "ipython3",
   "version": "3.7.4"
  }
 },
 "nbformat": 4,
 "nbformat_minor": 1
}
