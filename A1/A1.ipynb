{
 "cells": [
  {
   "cell_type": "markdown",
   "metadata": {},
   "source": [
    "# Assignment 1 Comp 521 Fall 2020\n",
    "\n",
    "Answer each question below by filling in code at the point indicated.\n",
    "Do not modify any of the other cells. \n",
    "\n",
    "You __must__ run the cells in order. It looks like you can come back later after restarting and pick up where you left off but that is not the case. When restarting you always have to start at the top of the notebook and run each cell in turn. "
   ]
  },
  {
   "cell_type": "code",
   "execution_count": 1,
   "metadata": {},
   "outputs": [],
   "source": [
    "# fill in the information below\n",
    "Author = '730239798'\n",
    "Collaborators = []"
   ]
  },
  {
   "cell_type": "code",
   "execution_count": 2,
   "metadata": {},
   "outputs": [],
   "source": [
    "# checker setup do NOT change this\n",
    "import comp521\n",
    "check, report = comp521.start('A1')"
   ]
  },
  {
   "cell_type": "code",
   "execution_count": 5,
   "metadata": {},
   "outputs": [],
   "source": [
    "# setup, no need to change this\n",
    "import sqlite3"
   ]
  },
  {
   "cell_type": "markdown",
   "metadata": {},
   "source": [
    "For this assignment you have relations with these schemas\n",
    "\n",
    " ```sql\n",
    " create table Department (\n",
    "     did integer primary key, \n",
    "     name text)\n",
    "\n",
    " create table Course (\n",
    "     cid integer primary key,\n",
    "     did integer,\n",
    "     name text,\n",
    "     num integer,\n",
    "     creditHours integer,\n",
    "     foreign key (did) references Department)\n",
    "     \n",
    " create table Student (\n",
    "     sid integer primary key,\n",
    "     did integer,\n",
    "     fname text,\n",
    "     lname text,\n",
    "     foreign key (did) references Department)\n",
    "\n",
    " create table Enrolled_in (\n",
    "     eid integer primary key,\n",
    "     sid integer,\n",
    "     cid integer,\n",
    "     foreign key (sid) references Student,\n",
    "     foreign key (cid) references Course)\n",
    "       \n",
    " ```\n",
    "\n",
    "\n",
    "\n",
    "I will open the database for you below. "
   ]
  },
  {
   "cell_type": "code",
   "execution_count": 6,
   "metadata": {},
   "outputs": [],
   "source": [
    "# do not change this\n",
    "db = sqlite3.connect('CourseEnrollment.sqlite')\n",
    "cursor = db.cursor()"
   ]
  },
  {
   "cell_type": "markdown",
   "metadata": {},
   "source": [
    "For the next three questions write a SQL query that produces a result that is equivalent to the Relational Algebra expression. I will execute the SQL query for you.\n",
    "\n",
    "## Question 1\n",
    "\n",
    "Translate this Relational Algebra expression into SQL: $\\pi_{name} \\sigma_{num < 500} Course$"
   ]
  },
  {
   "cell_type": "code",
   "execution_count": 7,
   "metadata": {},
   "outputs": [
    {
     "name": "stdout",
     "output_type": "stream",
     "text": [
      "Q1 appears correct\n"
     ]
    }
   ],
   "source": [
    "# write your SQL expression here\n",
    "sql1 = \"\"\"Select name\n",
    "            From Course\n",
    "            Where num < 500 \"\"\"\n",
    "\n",
    "\n",
    "# checking code. Do NOT change this.\n",
    "cursor.execute(sql1)\n",
    "c1 = cursor.fetchall()\n",
    "check('Q1', c1, points=5, sort=True)"
   ]
  },
  {
   "cell_type": "markdown",
   "metadata": {},
   "source": [
    "## Question 2\n",
    "\n",
    "$\\pi_{fname,lname}\\sigma_{name='Files\\ and\\ Databases'}(Student\\bowtie Enrolled\\_In \\bowtie Course)$\n",
    "\n"
   ]
  },
  {
   "cell_type": "code",
   "execution_count": 8,
   "metadata": {},
   "outputs": [
    {
     "name": "stdout",
     "output_type": "stream",
     "text": [
      "Q2 appears correct\n"
     ]
    }
   ],
   "source": [
    "# Assign your result to c2\n",
    "sql2 = \"\"\"Select S.fname, S.lname\n",
    "        From Student S, Enrolled_In E, Course C\n",
    "        Where s.sid = E.sid and E.cid = C.cid and C.name = 'Files and Databases'\"\"\"\n",
    "\n",
    "# checking\n",
    "cursor.execute(sql2)\n",
    "c2 = cursor.fetchall()\n",
    "check('Q2', c2, points=5, sort=True)"
   ]
  },
  {
   "cell_type": "markdown",
   "metadata": {},
   "source": [
    "## Question 3\n",
    "$ \\pi_{fname,lname} \\sigma_{name='ANTH'} (Student \\bowtie Department) $"
   ]
  },
  {
   "cell_type": "code",
   "execution_count": 9,
   "metadata": {},
   "outputs": [
    {
     "name": "stdout",
     "output_type": "stream",
     "text": [
      "Q3 appears correct\n"
     ]
    }
   ],
   "source": [
    "# assign to c3\n",
    "sql3 = \"\"\" Select S.fname, S.lname\n",
    "            From Student S, Department D\n",
    "            Where S.did = D. did and D.name = 'ANTH'\"\"\"\n",
    "\n",
    "# checking\n",
    "cursor.execute(sql3)\n",
    "c3 = cursor.fetchall()\n",
    "check('Q3', c3, points=5, sort=True)"
   ]
  },
  {
   "cell_type": "markdown",
   "metadata": {},
   "source": [
    "## Question 4\n",
    "$ \\pi_{name} \\sigma_{creditHours=3} Course $"
   ]
  },
  {
   "cell_type": "code",
   "execution_count": 10,
   "metadata": {},
   "outputs": [
    {
     "name": "stdout",
     "output_type": "stream",
     "text": [
      "Q4 appears correct\n"
     ]
    }
   ],
   "source": [
    "# assign to sql4\n",
    "sql4 = \"\"\" Select name\n",
    "            From Course\n",
    "            Where CreditHours = 3\"\"\"\n",
    "\n",
    "# checking\n",
    "cursor.execute(sql4)\n",
    "c4 = cursor.fetchall()\n",
    "check('Q4', c4, points=5, sort=True)"
   ]
  },
  {
   "cell_type": "markdown",
   "metadata": {},
   "source": [
    "For these next questions, write a SQL query to fetch the requested information. From here on, I want you\n",
    "to write the Python code as well as the query. The questions above provide an example of what you must type.\n",
    "\n",
    "## Question 5\n",
    "Find the names of all 4 credit hour courses."
   ]
  },
  {
   "cell_type": "code",
   "execution_count": 11,
   "metadata": {},
   "outputs": [
    {
     "name": "stdout",
     "output_type": "stream",
     "text": [
      "Q5 appears correct\n"
     ]
    }
   ],
   "source": [
    "# your code here\n",
    "sql10 = \"\"\" Select name\n",
    "            From Course \n",
    "            Where CreditHours = 4\"\"\"\n",
    "\n",
    "c5 = [sql10] # the result of fetch all goes in this variable\n",
    "\n",
    "cursor.execute(sql10)\n",
    "c5 = cursor.fetchall()\n",
    "check('Q5', c5, points=10, sort=True)"
   ]
  },
  {
   "cell_type": "markdown",
   "metadata": {},
   "source": [
    "## Question 6\n",
    "Find the first and last names of all students enrolled in COMP courses."
   ]
  },
  {
   "cell_type": "code",
   "execution_count": 12,
   "metadata": {
    "scrolled": true
   },
   "outputs": [
    {
     "name": "stdout",
     "output_type": "stream",
     "text": [
      "Q6 appears correct\n"
     ]
    }
   ],
   "source": [
    "# your code here\n",
    "sql9 = \"\"\" Select distinct S.fname, S.lname\n",
    "            From Student S, Course C, Enrolled_In E, Department D\n",
    "            Where E.sid = S.sid and E.cid = C.cid and C.did = D.did\n",
    "            and D.name = 'COMP'\"\"\"\n",
    "\n",
    "c6 = [sql9] # the result of fetch all goes in this variable\n",
    "\n",
    "cursor.execute(sql9)\n",
    "c6 = cursor.fetchall()\n",
    "check('Q6', c6, points=10, sort=True)"
   ]
  },
  {
   "cell_type": "markdown",
   "metadata": {},
   "source": [
    "## Question 7\n",
    "Find the first and last names of all students enrolled in courses of at least 500 level."
   ]
  },
  {
   "cell_type": "code",
   "execution_count": 21,
   "metadata": {},
   "outputs": [
    {
     "name": "stdout",
     "output_type": "stream",
     "text": [
      "Q7 appears correct\n"
     ]
    }
   ],
   "source": [
    "# your code here\n",
    "sql8 = \"\"\" Select distinct S.fname, S.lname\n",
    "            From Student S, Course C, Enrolled_In E\n",
    "            Where C.cid = E.cid and S.sid = E.sid and C.num >= 500\"\"\"\n",
    "\n",
    "c7 = [sql8] # the result of fetch all goes in this variable\n",
    "\n",
    "\n",
    "cursor.execute(sql8)\n",
    "c7 = cursor.fetchall()\n",
    "check('Q7', c7, points=10, sort=True)"
   ]
  },
  {
   "cell_type": "markdown",
   "metadata": {},
   "source": [
    "## Question 8\n",
    "Find the first and last names of all students enrolled in 'Data Structures' and \"Anthropology of the Body and the Subject'."
   ]
  },
  {
   "cell_type": "code",
   "execution_count": 27,
   "metadata": {},
   "outputs": [
    {
     "name": "stdout",
     "output_type": "stream",
     "text": [
      "Q8 appears correct\n"
     ]
    }
   ],
   "source": [
    "# your code here\n",
    "sql7 = \"\"\" Select distinct S.fname, S.lname\n",
    "            From Student S, Enrolled_In E, Course C\n",
    "            Where E.sid = S.sid and E.cid = C.cid and C.name = 'Data Structures' \n",
    "            \n",
    "            intersect\n",
    "            \n",
    "            Select distinct s.fname, s.lname\n",
    "            From Student S, Enrolled_In E, Course C \n",
    "            Where E.sid = S.sid and E.cid = C.cid and c.name = 'Anthropology of the Body and the Subject'\"\"\"\n",
    "c8 = [sql7] # the result of fetch all goes in this variable\n",
    "\n",
    "\n",
    "cursor.execute(sql7)\n",
    "c8 = cursor.fetchall()\n",
    "check('Q8', c8, points=15, sort=True)"
   ]
  },
  {
   "cell_type": "markdown",
   "metadata": {},
   "source": [
    "## Done!\n",
    "\n",
    "Now get your report and submit your assignment."
   ]
  },
  {
   "cell_type": "code",
   "execution_count": 28,
   "metadata": {},
   "outputs": [
    {
     "name": "stdout",
     "output_type": "stream",
     "text": [
      "  Collaborators: []\n",
      "Report for 730239798\n",
      "  8 of 8 appear correct, 65 of 65 points\n"
     ]
    }
   ],
   "source": [
    "report(Author, Collaborators)"
   ]
  },
  {
   "cell_type": "code",
   "execution_count": null,
   "metadata": {},
   "outputs": [],
   "source": []
  }
 ],
 "metadata": {
  "kernelspec": {
   "display_name": "Python 3",
   "language": "python",
   "name": "python3"
  },
  "language_info": {
   "codemirror_mode": {
    "name": "ipython",
    "version": 3
   },
   "file_extension": ".py",
   "mimetype": "text/x-python",
   "name": "python",
   "nbconvert_exporter": "python",
   "pygments_lexer": "ipython3",
   "version": "3.7.4"
  },
  "toc": {
   "base_numbering": 1,
   "nav_menu": {},
   "number_sections": true,
   "sideBar": true,
   "skip_h1_title": false,
   "title_cell": "Table of Contents",
   "title_sidebar": "Contents",
   "toc_cell": false,
   "toc_position": {},
   "toc_section_display": true,
   "toc_window_display": false
  }
 },
 "nbformat": 4,
 "nbformat_minor": 1
}
