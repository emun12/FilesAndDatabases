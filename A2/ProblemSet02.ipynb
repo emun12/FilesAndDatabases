{
 "cells": [
  {
   "cell_type": "markdown",
   "metadata": {
    "course": "Comp521F19",
    "problemset": 2,
    "section": "header"
   },
   "source": [
    "<div style=\"text-align: center;\">\n",
    "<h1>The University of North Carolina at Chapel Hill</h1>\n",
    "<h1>Comp 521 Files and Databases - Fall 2020</h1>\n",
    "<h1 style=\"font-size: 250%;\">Problem Set #2</h1>\n",
    "<h1 style=\"font-size: 200%;\">Version 1.1</h1>\n",
    "<h1>Issued Thursday 9/3/2020; Due Thursday 9/17/2020</h1>\n",
    "</div>\n",
    "\n",
    "**Homework Information:** The answer cells in this notebook contain metadata that enable it to be automatically parsed. Thus, you must enter your answers *only* into the cells provided. Do not delete any answer cell and/or add a new one to replace it. If you do so by accident, download a new copy of the problem set's notebook and transfer your answers into it. You can introduce new 'coding' cells in an effort to test approaches to problems, however, these introduced cells will not be considered when grading.\n",
    "\n",
    "Finally, some of the problems are probably too long to be done the night before the due date, so plan accordingly. Late problem sets will be accepted, but your lowest problem-set grade will be dropped. Feel free to get help from others, but the work you submit in should be your own."
   ]
  },
  {
   "cell_type": "code",
   "execution_count": 2,
   "metadata": {
    "section": "signature"
   },
   "outputs": [],
   "source": [
    "# Do not make any edits in this cell!\n",
    "class Student:\n",
    "    first = \"Esther\"\n",
    "    last = \"Mun\"\n",
    "    onyen = \"emun99\"\n",
    "    pid = \"730239798\""
   ]
  },
  {
   "cell_type": "markdown",
   "metadata": {
    "section": "setup"
   },
   "source": [
    "In the following questions you are asked to write a single SQL query to find the requested results from a database derived from the demographic, COVID-19, and hospital data used in Problem set #1. The database has the following tables:\n",
    "<table style=\"border:none;\"><tbody>\n",
    "        <tr style=\"border:none;\">\n",
    "            <td style=\"padding:0px 20px;border:none;\" colspan=\"2\">\n",
    "            <table style=\"border-collapse: collapse; border: 1px solid black;\"><tbody>\n",
    "            <tr style=\"border-collapse: collapse; border: 1px solid black;\">\n",
    "                <th colspan=\"7\" style=\"text-align:center; background-color: skyblue;\">Demograpics</th></tr>\n",
    "            <tr style=\"border-collapse: collapse; border: 1px solid black;\">\n",
    "                <td style=\"border-collapse: collapse; border: 1px solid black;\"><u>fips</u></td>\n",
    "                <td style=\"border-collapse: collapse; border: 1px solid black;\"><u>year</u></td>\n",
    "                <td style=\"border-collapse: collapse; border: 1px solid black;\"><u>race</u></td>\n",
    "                <td style=\"border-collapse: collapse; border: 1px solid black;\"><u>sex</u></td>\n",
    "                <td style=\"border-collapse: collapse; border: 1px solid black;\"><u>agelo</u></td>\n",
    "                <td style=\"border-collapse: collapse; border: 1px solid black;\">agehi</td>\n",
    "                <td style=\"border-collapse: collapse; border: 1px solid black;\">count</td>\n",
    "            </tr>\n",
    "            </tbody></table>\n",
    "            </td>\n",
    "            <td style=\"padding:0px 20px;border:none;\" colspan=\"2\">\n",
    "            <table style=\"border-collapse: collapse; border: 1px solid black;\"><tbody>\n",
    "            <tr style=\"border-collapse: collapse; border: 1px solid black;\">\n",
    "                <th colspan=\"5\" style=\"text-align:center; background-color: skyblue;\">County</th></tr>\n",
    "            <tr style=\"border-collapse: collapse; border: 1px solid black;\">\n",
    "                <td style=\"border-collapse: collapse; border: 1px solid black;\"><u>fips</u></td>\n",
    "                <td style=\"border-collapse: collapse; border: 1px solid black;\">name</td>\n",
    "                <td style=\"border-collapse: collapse; border: 1px solid black;\">region</td>\n",
    "                <td style=\"border-collapse: collapse; border: 1px solid black;\">cog</td>\n",
    "                <td style=\"border-collapse: collapse; border: 1px solid black;\">msa</td>\n",
    "            </tr>\n",
    "            </tbody></table>\n",
    "            </td>\n",
    "            <td style=\"padding:0px 20px;border:none;\" colspan=\"2\">\n",
    "            <table style=\"border-collapse: collapse; border: 1px solid black;\"><tbody>\n",
    "            <tr style=\"border-collapse: collapse; border: 1px solid black;\">\n",
    "                <th colspan=\"4\" style=\"text-align:center; background-color: skyblue;\">Covid19</th></tr>\n",
    "            <tr style=\"border-collapse: collapse; border: 1px solid black;\">\n",
    "                <td style=\"border-collapse: collapse; border: 1px solid black;\"><u>fips</u></td>\n",
    "                <td style=\"border-collapse: collapse; border: 1px solid black;\"><u>date</u></td>\n",
    "                <td style=\"border-collapse: collapse; border: 1px solid black;\">cases</td>\n",
    "                <td style=\"border-collapse: collapse; border: 1px solid black;\">death</td>\n",
    "            </tr>\n",
    "            </tbody></table>\n",
    "            </td>\n",
    "        </tr>\n",
    "        <tr style=\"border:none;\">\n",
    "            <td colspan=\"6\" style=\"border:none;\">&nbsp;</td>\n",
    "        </tr>\n",
    "        <tr style=\"border:none;\">\n",
    "            <td style=\"padding:0px 20px;border:none;\"  colspan=\"3\">\n",
    "            <table style=\"border-collapse: collapse; border: 1px solid black;\"><tbody>\n",
    "            <tr style=\"border-collapse: collapse; border: 1px solid black;\">\n",
    "                <th colspan=\"8\" style=\"text-align:center; background-color: skyblue;\">Hospital</th></tr>\n",
    "            <tr style=\"border-collapse: collapse; border: 1px solid black;\">\n",
    "                <td style=\"border-collapse: collapse; border: 1px solid black;\"><u>hid</u></td>\n",
    "                <td style=\"border-collapse: collapse; border: 1px solid black;\">name</td>\n",
    "                <td style=\"border-collapse: collapse; border: 1px solid black;\">city</td>\n",
    "                <td style=\"border-collapse: collapse; border: 1px solid black;\">beds</td>\n",
    "                <td style=\"border-collapse: collapse; border: 1px solid black;\">icu</td>\n",
    "                <td style=\"border-collapse: collapse; border: 1px solid black;\">discharges</td>\n",
    "                <td style=\"border-collapse: collapse; border: 1px solid black;\">patientdays</td>\n",
    "                <td style=\"border-collapse: collapse; border: 1px solid black;\">revenue</td>\n",
    "            </tr>\n",
    "            </tbody></table>\n",
    "            </td>\n",
    "            <td style=\"padding:0px 20px;border:none;\" colspan=\"3\">\n",
    "            <table style=\"border-collapse: collapse; border: 1px solid black;\"><tbody>\n",
    "            <tr style=\"border-collapse: collapse; border: 1px solid black;\">\n",
    "                <th colspan=\"3\" style=\"text-align:center; background-color: skyblue;\">HospitalCounty</th></tr>\n",
    "            <tr style=\"border-collapse: collapse; border: 1px solid black;\">\n",
    "                <td style=\"border-collapse: collapse; border: 1px solid black;\"><u>hid</u></td>\n",
    "                <td style=\"border-collapse: collapse; border: 1px solid black;\"><u>fips</u></td>\n",
    "                <td style=\"border-collapse: collapse; border: 1px solid black;\">incounty</td>\n",
    "            </tr>\n",
    "            </tbody></table>\n",
    "            </td>\n",
    "        </tr>\n",
    "        </tbody></table>\n",
    "\n",
    "An <a href=\"http://csbio.unc.edu/mcmillan/Media/NCCOVID19.db\" download>example database</a> and the interactive SQL parser (<a href=\"http://csbio.unc.edu/mcmillan/Media/iSQL.py\" download>iSQL.py</a>) are provided for experimentation. You will need to copy iSQL.py into the same Jupyter Hub directory as the notebook for this problem set and invoke it as follows:\n",
    "\n",
    "    import iSQL\n",
    "    \n",
    "    query = iSQL.parser(\"NCCOVID19.db\")\n",
    "    \n",
    "\n",
    "Make sure that you copy your SQL query into the cell provided for your answer. Only that cell will be graded.\n",
    "***Warning***, if your query appears to give the correct result for the given database, that does not mean that it is correct. A correct query must give the requested result for *any* and *all* valid instances of the given database schema."
   ]
  },
  {
   "cell_type": "markdown",
   "metadata": {
    "case": 0,
    "key": "Bradshaw",
    "number": 1,
    "section": "problem"
   },
   "source": [
    "---\n",
    "**Problem 1:** Generate a table with the name, population, and region of all North Carolina counties in 2020."
   ]
  },
  {
   "cell_type": "code",
   "execution_count": 3,
   "metadata": {},
   "outputs": [
    {
     "data": {
      "application/vnd.jupyter.widget-view+json": {
       "model_id": "dab9ee7630ea45b3a3a60fe59f524b46",
       "version_major": 2,
       "version_minor": 0
      },
      "text/plain": [
       "VBox(children=(Textarea(value='', description='SQL:', layout=Layout(height='auto', width='600px')), HBox(child…"
      ]
     },
     "metadata": {},
     "output_type": "display_data"
    }
   ],
   "source": [
    "import iSQL\n",
    "\n",
    "query = iSQL.parser(\"NCCOVID19.db\")"
   ]
  },
  {
   "cell_type": "raw",
   "metadata": {
    "number": 1,
    "section": "answer"
   },
   "source": [
    "Select County.name, Demographics.count, County.region\n",
    "From Demographics, County\n",
    "Where Demographics.fips = County.fips and year = 2020\n",
    "Group by County.name"
   ]
  },
  {
   "cell_type": "markdown",
   "metadata": {
    "case": 1,
    "key": "Bradshaw",
    "number": 2,
    "section": "problem"
   },
   "source": [
    "---\n",
    "**Problem 2:** Generate a table with the name and number of hospital beds found in each North Carolina county."
   ]
  },
  {
   "cell_type": "code",
   "execution_count": 10,
   "metadata": {},
   "outputs": [
    {
     "data": {
      "application/vnd.jupyter.widget-view+json": {
       "model_id": "d1305eaa05bc422ba72f41d84dcd7958",
       "version_major": 2,
       "version_minor": 0
      },
      "text/plain": [
       "VBox(children=(Textarea(value='', description='SQL:', layout=Layout(height='auto', width='600px')), HBox(child…"
      ]
     },
     "metadata": {},
     "output_type": "display_data"
    }
   ],
   "source": [
    "import iSQL\n",
    "\n",
    "query = iSQL.parser(\"NCCOVID19.db\")"
   ]
  },
  {
   "cell_type": "raw",
   "metadata": {
    "number": 2,
    "section": "answer"
   },
   "source": [
    "Select County.name, IFNULL(availableB.Totalbeds, 0) as \"Hospital Beds\"\n",
    "\n",
    "From County LEFT JOIN\n",
    "\n",
    "(Select County.name, Sum(Hospital.beds) as Totalbeds, HospitalCounty.fips\n",
    "From County, Hospital, HospitalCounty\n",
    "Where HospitalCounty.hid = Hospital.hid and County.fips = HospitalCounty.fips and HospitalCounty.incounty = 1\n",
    "Group By County.fips) availableB on County.fips = availableB.fips \n",
    "\n",
    "Group By County.fips"
   ]
  },
  {
   "cell_type": "markdown",
   "metadata": {
    "case": 4,
    "key": "Bradshaw",
    "number": 3,
    "section": "problem"
   },
   "source": [
    "---\n",
    "**Problem 3:** . Generate a table with each North Carolina County and the date of its first confirmed COVID-19 case."
   ]
  },
  {
   "cell_type": "code",
   "execution_count": 5,
   "metadata": {},
   "outputs": [
    {
     "data": {
      "application/vnd.jupyter.widget-view+json": {
       "model_id": "0867be7012144160ba75d1b655bf0eef",
       "version_major": 2,
       "version_minor": 0
      },
      "text/plain": [
       "VBox(children=(Textarea(value='', description='SQL:', layout=Layout(height='auto', width='600px')), HBox(child…"
      ]
     },
     "metadata": {},
     "output_type": "display_data"
    }
   ],
   "source": [
    "import iSQL\n",
    "\n",
    "query = iSQL.parser(\"NCCOVID19.db\")"
   ]
  },
  {
   "cell_type": "raw",
   "metadata": {
    "number": 3,
    "section": "answer"
   },
   "source": [
    "Select County.name, Min(Covid19.date)\n",
    "From County, Covid19\n",
    "Where County.fips = Covid19.fips\n",
    "Group by County.name"
   ]
  },
  {
   "cell_type": "markdown",
   "metadata": {
    "case": 5,
    "key": "Bradshaw",
    "number": 4,
    "section": "problem"
   },
   "source": [
    "---\n",
    "**Problem 4:** Generate a list of all Hospital names and North Carolina Counties in which there is more than one hospital. "
   ]
  },
  {
   "cell_type": "code",
   "execution_count": 4,
   "metadata": {},
   "outputs": [
    {
     "data": {
      "application/vnd.jupyter.widget-view+json": {
       "model_id": "a7c1b5054d57487bb5d3fc596902e8b6",
       "version_major": 2,
       "version_minor": 0
      },
      "text/plain": [
       "VBox(children=(Textarea(value='', description='SQL:', layout=Layout(height='auto', width='600px')), HBox(child…"
      ]
     },
     "metadata": {},
     "output_type": "display_data"
    }
   ],
   "source": [
    "import iSQL\n",
    "\n",
    "query = iSQL.parser(\"NCCOVID19.db\")"
   ]
  },
  {
   "cell_type": "raw",
   "metadata": {
    "number": 4,
    "section": "answer"
   },
   "source": [
    "Select hospital.name, County.name\n",
    "From hospital, County, HospitalCounty\n",
    "Where County.fips IN\n",
    "(Select C.fips From County C, Hospital H, HospitalCounty HC where C.fips = HC.fips and h.hid = HC.hid and Hc.incounty = 1 Group By C.name\n",
    "having count (h.hid) > 1)\n",
    "and County.fips = HospitalCounty.fips and HospitalCounty.hid = Hospital.hid and HospitalCounty.incounty = 1\n"
   ]
  },
  {
   "cell_type": "markdown",
   "metadata": {
    "case": 7,
    "key": "Bradshaw",
    "number": 5,
    "section": "problem"
   },
   "source": [
    "---\n",
    "**Problem 5:** Generate a sorted list, from high to low, of North Carolina county ratios of residents in the age range of 25 to 45 to their total population in 2020. The output should include the county's name, 25-45 population, and ratio."
   ]
  },
  {
   "cell_type": "code",
   "execution_count": 1,
   "metadata": {},
   "outputs": [
    {
     "data": {
      "application/vnd.jupyter.widget-view+json": {
       "model_id": "3fb2bbd51a254fcd9610a5fc16a9c231",
       "version_major": 2,
       "version_minor": 0
      },
      "text/plain": [
       "VBox(children=(Textarea(value='', description='SQL:', layout=Layout(height='auto', width='600px')), HBox(child…"
      ]
     },
     "metadata": {},
     "output_type": "display_data"
    }
   ],
   "source": [
    "import iSQL\n",
    "\n",
    "query = iSQL.parser(\"NCCOVID19.db\")"
   ]
  },
  {
   "cell_type": "raw",
   "metadata": {
    "number": 5,
    "section": "answer"
   },
   "source": [
    "Select County.name, Sum(Demographics.count), (1.0*Sum(Demographics.count))/PTable.population as ratio\n",
    "From County, Demographics, \n",
    "(Select fips, Sum(count) AS population From Demographics Where year = 2020 Group by fips) as PTable\n",
    "Where County.fips = Demographics.fips and County.fips = PTable.fips and Demographics.year = 2020 and Demographics.agelo >= 25 and Demographics.agehi <= 45\n",
    "Group by County.fips\n",
    "Order by ratio DESC"
   ]
  },
  {
   "cell_type": "markdown",
   "metadata": {
    "case": 9,
    "key": "Bradshaw",
    "number": 6,
    "section": "problem"
   },
   "source": [
    "---\n",
    "**Problem 6:** Generate a sorted list, from high to low, of the largest increase in North Carolina county ratios of residents in the age range of 25 to 45 to their total population in 2020 when compared to 2000. The output should include the county's name, 25-45 population ratio in 2020, and delta of ratio change."
   ]
  },
  {
   "cell_type": "code",
   "execution_count": 2,
   "metadata": {},
   "outputs": [
    {
     "data": {
      "application/vnd.jupyter.widget-view+json": {
       "model_id": "9b0cbf552da549ae93c2736a26915634",
       "version_major": 2,
       "version_minor": 0
      },
      "text/plain": [
       "VBox(children=(Textarea(value='', description='SQL:', layout=Layout(height='auto', width='600px')), HBox(child…"
      ]
     },
     "metadata": {},
     "output_type": "display_data"
    }
   ],
   "source": [
    "import iSQL\n",
    "\n",
    "query = iSQL.parser(\"NCCOVID19.db\")"
   ]
  },
  {
   "cell_type": "raw",
   "metadata": {
    "number": 6,
    "section": "answer"
   },
   "source": [
    "Select County.name, C2020.popu, ((1.0 * C2020.popu) / P2020.popu - (1.0 * C2000.popu) / P2000.popu) AS DeltaRatio, (1.0* C2020.popu)/P2020.popu as Ratio\n",
    "\n",
    "From County, \n",
    "(Select fips, SUM(count) as popu FROM Demographics Where year = 2000 and agelo >=25 and agehi <= 45 Group By fips) as C2000,\n",
    "(Select fips, SUM(count) as popu FROM Demographics Where year = 2000 Group By fips) as P2000,\n",
    "(Select fips, SUM(count) as popu From Demographics Where year = 2020 and agelo >=25 and agehi <=45 Group By fips) as C2020,\n",
    "(Select fips, SUM(count) as popu FROM Demographics Where year = 2020 Group By fips) as P2020\n",
    "\n",
    "Where County.fips = P2000.fips and County.fips = P2020.fips and County.fips = c2000.fips and County.fips = C2020.fips\n",
    "Order By DeltaRatio Desc "
   ]
  },
  {
   "cell_type": "markdown",
   "metadata": {
    "case": 10,
    "key": "Bradshaw",
    "number": 7,
    "section": "problem"
   },
   "source": [
    "---\n",
    "**Problem 7:** For each county, find the single day with the most COVID-19 deaths reported. Generate a list of each county, date, and the number of deaths."
   ]
  },
  {
   "cell_type": "code",
   "execution_count": 7,
   "metadata": {},
   "outputs": [
    {
     "data": {
      "application/vnd.jupyter.widget-view+json": {
       "model_id": "fa7c4300a02846818a983760ec957d31",
       "version_major": 2,
       "version_minor": 0
      },
      "text/plain": [
       "VBox(children=(Textarea(value='', description='SQL:', layout=Layout(height='auto', width='600px')), HBox(child…"
      ]
     },
     "metadata": {},
     "output_type": "display_data"
    }
   ],
   "source": [
    "import iSQL\n",
    "\n",
    "query = iSQL.parser(\"NCCOVID19.db\")"
   ]
  },
  {
   "cell_type": "raw",
   "metadata": {
    "number": 7,
    "section": "answer"
   },
   "source": [
    "SELECT County.name, Covid19.date, Max(Covid19.deaths)\n",
    "FROM County, Covid19 \n",
    "WHERE County.fips = Covid19.fips \n",
    "Group by County.name"
   ]
  },
  {
   "cell_type": "markdown",
   "metadata": {
    "case": 11,
    "key": "Bradshaw",
    "number": 8,
    "section": "problem"
   },
   "source": [
    "---\n",
    "**Problem 8:** On what single day were the most North Carolina COVID-19 deaths reported in the given reporting interval? For that day generate a list of each county, date, and the number of deaths. Include all counties, even those that did not report a death on the given date."
   ]
  },
  {
   "cell_type": "code",
   "execution_count": 11,
   "metadata": {},
   "outputs": [
    {
     "data": {
      "application/vnd.jupyter.widget-view+json": {
       "model_id": "e72130e624ad4c2aa05210da56a2f701",
       "version_major": 2,
       "version_minor": 0
      },
      "text/plain": [
       "VBox(children=(Textarea(value='', description='SQL:', layout=Layout(height='auto', width='600px')), HBox(child…"
      ]
     },
     "metadata": {},
     "output_type": "display_data"
    }
   ],
   "source": [
    "import iSQL\n",
    "\n",
    "query = iSQL.parser(\"NCCOVID19.db\")"
   ]
  },
  {
   "cell_type": "raw",
   "metadata": {
    "number": 8,
    "section": "answer"
   },
   "source": [
    "Select County.name, mostDay.date, IFNULL( mostDay.deaths, 0)\n",
    "\n",
    "From County Left Join\n",
    "(Select * From Covid19 Where date IN \n",
    "    (Select date From\n",
    "    (Select MAX(death), date From (Select date, SUM(deaths) as death From Covid19\n",
    "    Group By date)))) as mostDay on County.fips = mostDay.fips"
   ]
  },
  {
   "cell_type": "markdown",
   "metadata": {
    "case": 12,
    "key": "Bradshaw",
    "number": 9,
    "section": "problem"
   },
   "source": [
    "---\n",
    "**Problem 9:** Generate a list of North Carolina counties where white females of voting age (&ge; 18 years old) are the largest voting age demographic in *2020*. *In your report, provide multiple rows for each county of voting age residents broken down by race and sex. You should only include rows for countys in which the largest voting demographic is white and female.*"
   ]
  },
  {
   "cell_type": "code",
   "execution_count": 4,
   "metadata": {},
   "outputs": [
    {
     "data": {
      "application/vnd.jupyter.widget-view+json": {
       "model_id": "30445442fc87423c8eec5a3b3d3571d1",
       "version_major": 2,
       "version_minor": 0
      },
      "text/plain": [
       "VBox(children=(Textarea(value='', description='SQL:', layout=Layout(height='auto', width='600px')), HBox(child…"
      ]
     },
     "metadata": {},
     "output_type": "display_data"
    }
   ],
   "source": [
    "import iSQL\n",
    "\n",
    "query = iSQL.parser(\"NCCOVID19.db\")"
   ]
  },
  {
   "cell_type": "raw",
   "metadata": {
    "number": 9,
    "section": "answer"
   },
   "source": [
    "Select County.name, Demographics.race, Demographics.sex, Sum(Demographics.count) as totalNum\n",
    "From County, Demographics\n",
    "Where County.fips = Demographics.fips and Demographics.agelo >= 18 and Demographics.year = 2020 \n",
    "and County.fips IN\n",
    "    (Select fips\n",
    "    From (Select fips, sex, race, Max(totalNum)\n",
    "        From (Select Demographics.fips, Demographics.sex, Demographics.race, Sum(Demographics.count) as totalNum\n",
    "        From Demographics\n",
    "        Where Demographics.agelo >= 18 and Demographics.year = 2020 \n",
    "        Group by Demographics.fips, Demographics.sex, Demographics.race)\n",
    "    Group by fips)\n",
    "    Where sex = \"female\" and race = \"white\")\n",
    "Group by Demographics.fips, Demographics.sex, Demographics.race           "
   ]
  },
  {
   "cell_type": "markdown",
   "metadata": {
    "number": 10,
    "section": "problem"
   },
   "source": [
    "---\n",
    "**Problem 10:** What is the difference in total population between the age group from 45 to 54 in 2020 and the age group from 25 to 34 in *2000* for each county? Your output should be a list of counties and differences sorted from smallest (could be negative) to largest."
   ]
  },
  {
   "cell_type": "code",
   "execution_count": 1,
   "metadata": {},
   "outputs": [
    {
     "data": {
      "application/vnd.jupyter.widget-view+json": {
       "model_id": "dd1a1f6db14d41b682b6bdc9d43d8228",
       "version_major": 2,
       "version_minor": 0
      },
      "text/plain": [
       "VBox(children=(Textarea(value='', description='SQL:', layout=Layout(height='auto', width='600px')), HBox(child…"
      ]
     },
     "metadata": {},
     "output_type": "display_data"
    }
   ],
   "source": [
    "import iSQL\n",
    "\n",
    "query = iSQL.parser(\"NCCOVID19.db\")"
   ]
  },
  {
   "cell_type": "raw",
   "metadata": {
    "number": 10,
    "section": "answer"
   },
   "source": [
    "Select County.name, (P2020.P20Sum - P2000.P2000Sum) as popDifference\n",
    "From County, Demographics, \n",
    "\n",
    "(Select County.name, Sum(Demographics.count) as P2020sum\n",
    "From County, Demographics\n",
    "Where Demographics.agelo >= 45 and Demographics.agehi <= 54 and Demographics.year = 2020 and County.fips = Demographics.fips Group By Demographics.fips Order By P2020sum) as P2020,\n",
    "\n",
    "(Select  County.name, Sum(Demographics.count) as P2000Sum\n",
    "From County, Demographics\n",
    "Where Demographics.agelo >= 25 and Demographics.agehi <= 34 and Demographics.year = 2020 and County.fips = Demographics.fips Group By Demographics.fips Order By P2000sum) as P2000\n",
    "\n",
    "Where County.name = P2020.name and County.name = P2000.name \n",
    "Order By popDifference ASC\n"
   ]
  },
  {
   "cell_type": "markdown",
   "metadata": {
    "case": 0,
    "key": "Bradshaw",
    "number": 11,
    "section": "problem"
   },
   "source": [
    "---\n",
    "**Problem 11:** What 10 counties have the highest percentage of residents over 65 years of age in *2020*? Provide both the county's name and percentage."
   ]
  },
  {
   "cell_type": "code",
   "execution_count": 7,
   "metadata": {},
   "outputs": [
    {
     "data": {
      "application/vnd.jupyter.widget-view+json": {
       "model_id": "45ecadb5e6404b7b8465b5f35d1f8f6e",
       "version_major": 2,
       "version_minor": 0
      },
      "text/plain": [
       "VBox(children=(Textarea(value='', description='SQL:', layout=Layout(height='auto', width='600px')), HBox(child…"
      ]
     },
     "metadata": {},
     "output_type": "display_data"
    }
   ],
   "source": [
    "import iSQL\n",
    "\n",
    "query = iSQL.parser(\"NCCOVID19.db\")"
   ]
  },
  {
   "cell_type": "raw",
   "metadata": {
    "number": 11,
    "section": "answer"
   },
   "source": [
    "Select County.name, (100.0 * OlderPeople.OldPeople ) / RegularPeople.RegularPeople as percent\n",
    "From County,\n",
    "\n",
    "(Select County.fips, Sum(Demographics.count) as OldPeople\n",
    "From County, Demographics\n",
    "Where Demographics.fips = County.fips and Demographics.year = 2020 and Demographics.agelo  >= 65 Group By Demographics.fips) OlderPeople,\n",
    "\n",
    "(Select County.fips, Sum(Demographics.count) as RegularPeople\n",
    "From County, Demographics\n",
    "Where Demographics.fips = County.fips and Demographics.year = 2020 Group By Demographics.fips) RegularPeople \n",
    "\n",
    "Where County.fips = RegularPeople.fips  and County.fips = OlderPeople.fips \n",
    "Group By County.fips\n",
    "Order By percent DESC\n",
    "Limit 10"
   ]
  },
  {
   "cell_type": "markdown",
   "metadata": {
    "case": 1,
    "key": "Bradshaw",
    "number": 12,
    "section": "problem"
   },
   "source": [
    "---\n",
    "**Problem 12:** What counties in North Carolina do not have a hospital? Provide each county's name, population, and non-white population percentage in *2020*."
   ]
  },
  {
   "cell_type": "code",
   "execution_count": 1,
   "metadata": {},
   "outputs": [
    {
     "data": {
      "application/vnd.jupyter.widget-view+json": {
       "model_id": "233a9186a53247bda5abad2e4b52c621",
       "version_major": 2,
       "version_minor": 0
      },
      "text/plain": [
       "VBox(children=(Textarea(value='', description='SQL:', layout=Layout(height='auto', width='600px')), HBox(child…"
      ]
     },
     "metadata": {},
     "output_type": "display_data"
    }
   ],
   "source": [
    "import iSQL\n",
    "\n",
    "query = iSQL.parser(\"NCCOVID19.db\")"
   ]
  },
  {
   "cell_type": "code",
   "execution_count": null,
   "metadata": {},
   "outputs": [],
   "source": []
  },
  {
   "cell_type": "raw",
   "metadata": {
    "number": 12,
    "section": "answer"
   },
   "source": [
    "Select C.name, Sum(D.count) as Population, (100.0 * (Sum(D.count) - WhitePop.WhiteTotal) / Sum(D.count)) as Ratio\n",
    "From County C, Demographics D,\n",
    "(Select C.fips, Sum(D.count) as WhiteTotal, D.race\n",
    "From County C, Demographics D\n",
    "Where C.fips=D.fips and D.year = 2020 and D.race = \"white\"\n",
    "Group By C.fips) as WhitePop\n",
    "\n",
    "Where C.fips = D.fips  and  WhitePop.fips = C.fips and D.year = 2020 and C.fips NOT IN ( Select fips\n",
    "From HospitalCounty \n",
    "Where incounty = 1\n",
    "Group By hid) \n",
    "\n",
    "Group By C.fips\n"
   ]
  },
  {
   "cell_type": "markdown",
   "metadata": {
    "case": 2,
    "key": "Bradshaw",
    "number": 13,
    "section": "problem"
   },
   "source": [
    "---\n",
    "**Problem 13:**  Which counties had the highest ratio of COVID-19 cases to hospital-bed capacity? Do not consider counties that do not have a hospital and hopitals that have no beds. Output the county's name, its cases-to-bed ratio, and the day it occured. "
   ]
  },
  {
   "cell_type": "code",
   "execution_count": 2,
   "metadata": {},
   "outputs": [
    {
     "data": {
      "application/vnd.jupyter.widget-view+json": {
       "model_id": "30eb1e29332447208395d793af166349",
       "version_major": 2,
       "version_minor": 0
      },
      "text/plain": [
       "VBox(children=(Textarea(value='', description='SQL:', layout=Layout(height='auto', width='600px')), HBox(child…"
      ]
     },
     "metadata": {},
     "output_type": "display_data"
    }
   ],
   "source": [
    "import iSQL\n",
    "\n",
    "query = iSQL.parser(\"NCCOVID19.db\")"
   ]
  },
  {
   "cell_type": "raw",
   "metadata": {
    "number": 13,
    "section": "answer"
   },
   "source": [
    "Select C.name, (1.0 *  (MaxCases.MaxCase) / CountyBeds.totalBeds) as ratio, MaxCases.date\n",
    "From County C, Covid19 CV, \n",
    "(Select C2.fips, Sum(H.beds) as totalBeds\n",
    "From HospitalCounty HC, County C2, Hospital H\n",
    "Where C2.fips = HC.fips and H.hid = HC.hid and HC.incounty = 1 and H.beds > 0\n",
    "Group By C2.fips) as CountyBeds,\n",
    "(Select County.name, Covid19.date, Max(Covid19.cases) as MaxCase\n",
    "From County, Covid19\n",
    "Where Covid19.fips = County.fips\n",
    "Group By County.fips) as MaxCases\n",
    "\n",
    "Where C.fips = CV.fips and CountyBeds.fips = C.fips and MaxCases.name = C.name\n",
    "Group By C.fips\n",
    "Order By ratio Desc"
   ]
  },
  {
   "cell_type": "markdown",
   "metadata": {
    "case": 3,
    "key": "Bradshaw",
    "number": 14,
    "section": "problem"
   },
   "source": [
    "---\n",
    "**Problem 14:** Give a breakdown of COVID-19 cases, deaths, and hospitals by geographic region. For each of the geographic regions output the accumulated sum of COVID-19 cases and deaths since January 22, 2020, as well as the number of hospital beds in that region."
   ]
  },
  {
   "cell_type": "code",
   "execution_count": 3,
   "metadata": {},
   "outputs": [
    {
     "data": {
      "application/vnd.jupyter.widget-view+json": {
       "model_id": "11d026043c4a432384f7711aff4f9dab",
       "version_major": 2,
       "version_minor": 0
      },
      "text/plain": [
       "VBox(children=(Textarea(value='', description='SQL:', layout=Layout(height='auto', width='600px')), HBox(child…"
      ]
     },
     "metadata": {},
     "output_type": "display_data"
    }
   ],
   "source": [
    "import iSQL\n",
    "\n",
    "query = iSQL.parser(\"NCCOVID19.db\")"
   ]
  },
  {
   "cell_type": "raw",
   "metadata": {
    "number": 14,
    "section": "answer"
   },
   "source": [
    "Select County.region, Sum(Covid19.deaths) as totalDeaths, Sum(Covid19.cases) as Totalcases, totalHospitalBeds.TotalBeds\n",
    "From Covid19, County  Left Join\n",
    "\n",
    "(Select Sum(Hospital.beds) as TotalBeds, County.region From Hospital, HospitalCounty, County Where County.fips = HospitalCounty.fips and HospitalCounty.hid = Hospital.hid and HospitalCounty.incounty = 1 Group By County.region) as totalHospitalBeds on totalHospitalBeds.region = County.region \n",
    "\n",
    "Where County.fips = Covid19.fips and Covid19.date > '2020-01-22'\n",
    "Group By County.region"
   ]
  },
  {
   "cell_type": "markdown",
   "metadata": {
    "number": 15,
    "section": "problem"
   },
   "source": [
    "---\n",
    "**Problem 15:** On your own, use the web to find the number of ICU beds in one of the hospitals in the given database that is currently reported to be 0 in our database. Write a SQL UPDATE command that sets this value to the one you discovered."
   ]
  },
  {
   "cell_type": "code",
   "execution_count": 6,
   "metadata": {},
   "outputs": [
    {
     "data": {
      "application/vnd.jupyter.widget-view+json": {
       "model_id": "d7fb00b9436448e59964ded4db064da8",
       "version_major": 2,
       "version_minor": 0
      },
      "text/plain": [
       "VBox(children=(Textarea(value='', description='SQL:', layout=Layout(height='auto', width='600px')), HBox(child…"
      ]
     },
     "metadata": {},
     "output_type": "display_data"
    }
   ],
   "source": [
    "import iSQL\n",
    "\n",
    "query = iSQL.parser(\"NCCOVID19.db\")\n"
   ]
  },
  {
   "cell_type": "raw",
   "metadata": {
    "case": 5,
    "key": "common",
    "number": 15,
    "section": "answer"
   },
   "source": [
    "UPDATE Hospital SET icu = 251 WHERE hid=1026"
   ]
  },
  {
   "cell_type": "markdown",
   "metadata": {
    "case": 8,
    "key": "Bradshaw",
    "number": 16,
    "section": "problem"
   },
   "source": [
    "---\n",
    "**Problem 16:** Find one of the counties that has no hospital. On your own, use the web to find a nearby hospital in a bordering NC county. Write an INSERT command that inserts this hospital into the HospitalCounty table to indicate that this hospital serves a county where it is not located. "
   ]
  },
  {
   "cell_type": "code",
   "execution_count": 1,
   "metadata": {},
   "outputs": [
    {
     "data": {
      "application/vnd.jupyter.widget-view+json": {
       "model_id": "3196ee7af9804d61a8e2dc577a6e4523",
       "version_major": 2,
       "version_minor": 0
      },
      "text/plain": [
       "VBox(children=(Textarea(value='', description='SQL:', layout=Layout(height='auto', width='600px')), HBox(child…"
      ]
     },
     "metadata": {},
     "output_type": "display_data"
    }
   ],
   "source": [
    "import iSQL\n",
    "\n",
    "query = iSQL.parser(\"NCCOVID19.db\")"
   ]
  },
  {
   "cell_type": "raw",
   "metadata": {
    "number": 16,
    "section": "answer"
   },
   "source": [
    "INSERT INTO HospitalCounty\n",
    " VALUES (1024, 37037, 0)\n",
    " "
   ]
  },
  {
   "cell_type": "markdown",
   "metadata": {
    "case": 13,
    "key": "Bradshaw",
    "number": 17,
    "section": "problem"
   },
   "source": [
    "---\n",
    "**Problem 17:** New confirmed COVID-19 cases and deaths are reported daily. On your own, use the web to find the number of confirmed cases and deaths for some county not provided in the database. Write an INSERT command to add this new county and date to the COVID-19 table."
   ]
  },
  {
   "cell_type": "code",
   "execution_count": 5,
   "metadata": {},
   "outputs": [
    {
     "data": {
      "application/vnd.jupyter.widget-view+json": {
       "model_id": "0a2799b5f96d4ac1b5b05ad5500a1cae",
       "version_major": 2,
       "version_minor": 0
      },
      "text/plain": [
       "VBox(children=(Textarea(value='', description='SQL:', layout=Layout(height='auto', width='600px')), HBox(child…"
      ]
     },
     "metadata": {},
     "output_type": "display_data"
    }
   ],
   "source": [
    "import iSQL\n",
    "\n",
    "query = iSQL.parser(\"NCCOVID19.db\")"
   ]
  },
  {
   "cell_type": "raw",
   "metadata": {
    "number": 17,
    "section": "answer"
   },
   "source": [
    "INSERT INTO COVID19\n",
    " VALUES (37023, '2020-09-20', 2025, 34)\n"
   ]
  },
  {
   "cell_type": "markdown",
   "metadata": {
    "case": 15,
    "key": "Bradshaw",
    "number": 18,
    "section": "problem"
   },
   "source": [
    "---\n",
    "**Problem 18:** In the given database the numbers of COVID cases and deaths are not broken down according to sex. Assume that this data becomes available. Write *one or more* ALTER TABLE commands that include separate counts for confirmed cases and deaths according to sex, with the assumption that the total case counts includes both sexes as well as cases where the sex was not reported."
   ]
  },
  {
   "cell_type": "code",
   "execution_count": 6,
   "metadata": {},
   "outputs": [
    {
     "data": {
      "application/vnd.jupyter.widget-view+json": {
       "model_id": "00d02600a14e44d0b1919cc2ffba2ea4",
       "version_major": 2,
       "version_minor": 0
      },
      "text/plain": [
       "VBox(children=(Textarea(value='', description='SQL:', layout=Layout(height='auto', width='600px')), HBox(child…"
      ]
     },
     "metadata": {},
     "output_type": "display_data"
    }
   ],
   "source": [
    "import iSQL\n",
    "\n",
    "query = iSQL.parser(\"NCCOVID19.db\")"
   ]
  },
  {
   "cell_type": "raw",
   "metadata": {
    "number": 18,
    "section": "answer"
   },
   "source": [
    "Alter table Covid19\n",
    "Add MenCase int;\n",
    "Alter table Covid19\n",
    "Add WomenCase int;\n",
    "Alter table Covid19\n",
    "Add MenDeath int;\n",
    "Alter table Covid19\n",
    "Add WomenDeath int;"
   ]
  },
  {
   "cell_type": "markdown",
   "metadata": {
    "case": 18,
    "key": "Bradshaw",
    "number": 19,
    "section": "problem"
   },
   "source": [
    "---\n",
    "**Problem 19:** Specify a CHECK that enforces that the sex-specific case and death counts are always &le; to the total counts based on your modified table from problem 18. *(this was part of problem 18 in V1.0)*"
   ]
  },
  {
   "cell_type": "code",
   "execution_count": 8,
   "metadata": {},
   "outputs": [
    {
     "data": {
      "application/vnd.jupyter.widget-view+json": {
       "model_id": "ed2d92cd13e943cabf696ea8d2bd4b3b",
       "version_major": 2,
       "version_minor": 0
      },
      "text/plain": [
       "VBox(children=(Textarea(value='', description='SQL:', layout=Layout(height='auto', width='600px')), HBox(child…"
      ]
     },
     "metadata": {},
     "output_type": "display_data"
    }
   ],
   "source": [
    "import iSQL\n",
    "\n",
    "query = iSQL.parser(\"NCCOVID19.db\")"
   ]
  },
  {
   "cell_type": "raw",
   "metadata": {
    "number": 19,
    "section": "answer"
   },
   "source": [
    "Check (cases >= (MenCase + WomenCase) AND deaths >=  (MenDeath + WomenDeath));"
   ]
  },
  {
   "cell_type": "markdown",
   "metadata": {
    "case": 24,
    "key": "Bradshaw",
    "number": 20,
    "section": "problem"
   },
   "source": [
    "---\n",
    "**Problem 20:** Generate a list of all hosptials such that the county where they are located appears in their name. *(this was problem 19 in V1.0)*"
   ]
  },
  {
   "cell_type": "code",
   "execution_count": 4,
   "metadata": {},
   "outputs": [
    {
     "data": {
      "application/vnd.jupyter.widget-view+json": {
       "model_id": "fd818bdb7dec475a923b514b3c05b2cb",
       "version_major": 2,
       "version_minor": 0
      },
      "text/plain": [
       "VBox(children=(Textarea(value='', description='SQL:', layout=Layout(height='auto', width='600px')), HBox(child…"
      ]
     },
     "metadata": {},
     "output_type": "display_data"
    }
   ],
   "source": [
    "import iSQL\n",
    "\n",
    "query = iSQL.parser(\"NCCOVID19.db\")"
   ]
  },
  {
   "cell_type": "raw",
   "metadata": {
    "number": 20,
    "section": "answer"
   },
   "source": [
    "Select Hospital.name\n",
    "From Hospital, County, HospitalCounty\n",
    "Where County.fips = HospitalCounty.fips and Hospital.hid = HospitalCounty.hid and HospitalCounty.incounty = 1 and Hospital.name Like '%' || County.name || '%' "
   ]
  },
  {
   "cell_type": "markdown",
   "metadata": {},
   "source": [
    "Click [here to submit](http://csbio.unc.edu/mcmillan/index.py?run=PS.upload) your completed problem set.\n",
    "\n",
    "You can submit it as many times as you would like, but only the last submitted version will be graded. If the last submission was after the due date the final score will be reduced accordingly. "
   ]
  }
 ],
 "metadata": {
  "kernelspec": {
   "display_name": "Python 3",
   "language": "python",
   "name": "python3"
  },
  "language_info": {
   "codemirror_mode": {
    "name": "ipython",
    "version": 3
   },
   "file_extension": ".py",
   "mimetype": "text/x-python",
   "name": "python",
   "nbconvert_exporter": "python",
   "pygments_lexer": "ipython3",
   "version": "3.7.4"
  }
 },
 "nbformat": 4,
 "nbformat_minor": 1
}
