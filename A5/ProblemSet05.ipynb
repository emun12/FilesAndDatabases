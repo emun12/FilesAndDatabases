{
 "cells": [
  {
   "cell_type": "markdown",
   "metadata": {
    "course": "Comp521F19",
    "problemset": 5,
    "section": "header"
   },
   "source": [
    "<div style=\"text-align: center;\">\n",
    "<h1>The University of North Carolina at Chapel Hill</h1>\n",
    "<h1>Comp 521 Files and Databases - Fall 2020</h1>\n",
    "<h1 style=\"font-size: 250%;\">Problem Set #5</h1>\n",
    "<h1 style=\"font-size: 200%;\">Version 1.0</h1>\n",
    "<h1>Issued Thursday 11/03/2020; Due Tuesday 11/17/2020</h1>\n",
    "</div>\n",
    "\n",
    "**Homework Information:** The answer cells in this notebook contain metadata that enable it to be automatically parsed. Thus, you must enter your answers *only* into the cells provided. Do not delete any answer cell and/or add a new one to replace it. If you do so by accident, download a new copy of the problem set's notebook and transfer your answers into it. You can introduce new 'coding' cells in an effort to test approaches to problems, however, these introduced cells will not be considered when grading.\n",
    "\n",
    "Finally, some of the problems are probably too long to be done the night before the due date, so plan accordingly. Late problem sets will be accepted, but your lowest problem-set grade will be dropped. Feel free to get help from others, but the work you submit in should be your own."
   ]
  },
  {
   "cell_type": "code",
   "execution_count": 1,
   "metadata": {
    "collapsed": true,
    "section": "signature"
   },
   "outputs": [],
   "source": [
    "# Do not make any edits in this cell!\n",
    "class Student:\n",
    "    first = \"Esther\"\n",
    "    last = \"Mun\"\n",
    "    onyen = \"emun99\"\n",
    "    pid = \"730239798\""
   ]
  },
  {
   "cell_type": "markdown",
   "metadata": {
    "section": "setup"
   },
   "source": [
    "In this problem set you will build and experiment with a NoSQL document database using MongoDB. To start you will need to go to the following website: https://docs.mongodb.com/manual/administration/install-community/\n",
    "and follow installation instructions for MongoDB *Community Edition* on your OS.\n",
    "\n",
    "Next you will need to download [covid19.json](http://csbio.unc.edu/mcmillan/Comp521F20/covid19.json) to use as your example database.\n",
    "\n",
    "In order to load this json document as a database use the following command:\n",
    "\n",
    "       $ mongoimport --jsonArray --db=covid19 --collection=counties --file covid19.json\n",
    "\n",
    "Finally, you should be able to start the mongo command shell by typing **mongo** into a command line shell window. The result should resemble the following:\n",
    "\n",
    "        $ mongo\n",
    "        MongoDB shell version: 4.4.1\n",
    "        connecting to: mongodb://127.0.0.1:27017/?compressors=disabled&gssapiServiceName=mongodb\n",
    "        Implicit session: session { \"id\" : UUID(\"25ebaf18-9a3c-4687-a3fb-9b3929887754\") }\n",
    "        MongoDB server version: 4.4.1\n",
    "        >\n",
    "\n",
    "As a test, try the following MongoDB commands:\n",
    "\n",
    "        > use covid19\n",
    "        switched to db covid19\n",
    "        > db.counties.count()\n",
    "        3194\n",
    "\n",
    "The schema for this database is a list of documents with the following keys:\n",
    "\n",
    "    {\n",
    "        '_id': 5079,\n",
    "        'name': 'Lincoln County', \n",
    "        'state': 'AR',\n",
    "         'population': 13024,\n",
    "        'cases': [{'date': '2020-03-16', 'count': 1}, {'date': '2020-03-22', 'count': 1}, \n",
    "                  {'date': '2020-03-24', 'count': 1}, {'date': '2020-03-26', 'count': 2}], \n",
    "        'deaths': [{'date': '2020-03-27', 'count': 1}, {'date': '2020-04-02', 'count': 1}, \n",
    "                   {'date': '2020-05-28', 'count': 2}, {'date': '2020-05-30', 'count': 1}] \n",
    "    }\n",
    "    \n",
    "Where *_id* is the *fips* number that we saw in NCCOVID19.db."
   ]
  },
  {
   "cell_type": "markdown",
   "metadata": {
    "number": 1,
    "section": "problem"
   },
   "source": [
    "---\n",
    "**Problem #1**. Write a MongoDB query to find all states with a county named \"Orange County\". For each output both the state and the population of the county in that state. Copy *both* your query, and the output from your MongoDB query into the answer cell provided below.  "
   ]
  },
  {
   "cell_type": "raw",
   "metadata": {
    "number": 1,
    "section": "answer"
   },
   "source": [
    "# Replace this line with your query and its result"
   ]
  },
  {
   "cell_type": "markdown",
   "metadata": {
    "number": 2,
    "section": "problem"
   },
   "source": [
    "---\n",
    "**Problem #2**. Write a MongoDB *mapReduce* function to generate a collection of the total number of covid19 case counts for each states. Generate one record for each state. Copy *both* your mapReduce function, and the output from your MongoDB query into the answer cell provided below.  "
   ]
  },
  {
   "cell_type": "raw",
   "metadata": {
    "number": 2,
    "section": "answer"
   },
   "source": [
    "# Replace this line with your mapReduce function and its result"
   ]
  },
  {
   "cell_type": "markdown",
   "metadata": {
    "number": 3,
    "section": "problem"
   },
   "source": [
    "---\n",
    "**Problem #3**. Write a MongoDB *aggregate* function to generate a population total for each state. Copy *both* your *aggregate* function, and its output into the answer cell provided below. "
   ]
  },
  {
   "cell_type": "raw",
   "metadata": {
    "number": 3,
    "section": "answer"
   },
   "source": [
    "# Replace this line with your aggregate function and its result"
   ]
  },
  {
   "cell_type": "markdown",
   "metadata": {
    "number": 4,
    "section": "problem"
   },
   "source": [
    "---\n",
    "**Problem #4.** Write a MongoDB query to find all days where a county reported more than 1000 covid cases in a single day. Copy both your query, and its output into the answer cell provided below."
   ]
  },
  {
   "cell_type": "raw",
   "metadata": {
    "number": 4,
    "section": "answer"
   },
   "source": [
    "# Replace this line with your aggregate function and its result"
   ]
  },
  {
   "cell_type": "markdown",
   "metadata": {
    "number": 5,
    "section": "problem"
   },
   "source": [
    "---\n",
    "**Problem #5.** Write a MongoDB query to find the total number of Covid-19 deaths for every county and every state. Your output should include the county's name, its state, the total number of deaths in the database, and the population of each county. Copy *only* the query into the answer cell provided below."
   ]
  },
  {
   "cell_type": "raw",
   "metadata": {
    "number": 5,
    "section": "answer"
   },
   "source": [
    "# Replace this line with your query"
   ]
  },
  {
   "cell_type": "markdown",
   "metadata": {},
   "source": [
    "Click [here to submit](http://csbio.unc.edu/mcmillan/index.py?run=PS.upload) your completed problem set.\n",
    "\n",
    "You can submit it as many times as you would like, but only the last submitted version will be graded. If the last submission was after the due date the final score will be reduced accordingly. "
   ]
  }
 ],
 "metadata": {
  "kernelspec": {
   "display_name": "Python 3",
   "language": "python",
   "name": "python3"
  },
  "language_info": {
   "codemirror_mode": {
    "name": "ipython",
    "version": 3
   },
   "file_extension": ".py",
   "mimetype": "text/x-python",
   "name": "python",
   "nbconvert_exporter": "python",
   "pygments_lexer": "ipython3",
   "version": "3.7.4"
  }
 },
 "nbformat": 4,
 "nbformat_minor": 1
}
